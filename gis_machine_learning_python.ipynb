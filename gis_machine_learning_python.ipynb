{
 "cells": [
  {
   "cell_type": "markdown",
   "metadata": {},
   "source": [
    "# GIS and Machine Learning with Python"
   ]
  },
  {
   "cell_type": "markdown",
   "metadata": {},
   "source": [
    "This workshop is designed to get you familiar with basic GIS and machine learning functionality with a python SW stack. \n",
    "\n",
    "By the end of these lessions, you should be able to:\n",
    " - Download, explore, and plot from spatial files\n",
    " - Do basic manipulations of spatial shapes\n",
    " - Perform basic spatial analyses\n",
    " - Combine results from a machine learning model with spatial data"
   ]
  },
  {
   "cell_type": "markdown",
   "metadata": {},
   "source": [
    "This workshop will be done using Jupyter Notebooks and requires the following modules:\n",
    "     - GIS Modules\n",
    "            - Geopandas\n",
    "            - Shapely\n",
    "            - Pyproj\n",
    "            - Fiona\n",
    "            - Geopy\n",
    "            - Proximity Hash\n",
    "            - Geohash\n",
    "            \n",
    "     - General Purpose Modules\n",
    "             - Pandas\n",
    "             - Matplotlib\n",
    "             - Numpy\n",
    "             - Pylab\n",
    "             - Time\n",
    "             - Sys"
   ]
  },
  {
   "cell_type": "markdown",
   "metadata": {},
   "source": [
    "Let's import the needed modules:"
   ]
  },
  {
   "cell_type": "code",
   "execution_count": 2,
   "metadata": {},
   "outputs": [
    {
     "ename": "ImportError",
     "evalue": "No module named 'geopandas'",
     "output_type": "error",
     "traceback": [
      "\u001b[0;31m-----------------------------------------------------------------\u001b[0m",
      "\u001b[0;31mImportError\u001b[0m                     Traceback (most recent call last)",
      "\u001b[0;32m<ipython-input-2-b1131012854c>\u001b[0m in \u001b[0;36m<module>\u001b[0;34m()\u001b[0m\n\u001b[0;32m----> 1\u001b[0;31m \u001b[0;32mimport\u001b[0m \u001b[0mgeopandas\u001b[0m \u001b[0;32mas\u001b[0m \u001b[0mgp\u001b[0m\u001b[0;34m\u001b[0m\u001b[0m\n\u001b[0m\u001b[1;32m      2\u001b[0m \u001b[0;32mfrom\u001b[0m \u001b[0mshapely\u001b[0m\u001b[0;34m.\u001b[0m\u001b[0mgeometry\u001b[0m \u001b[0;32mimport\u001b[0m \u001b[0mPoint\u001b[0m\u001b[0;34m,\u001b[0m \u001b[0mPolygon\u001b[0m\u001b[0;34m\u001b[0m\u001b[0m\n\u001b[1;32m      3\u001b[0m \u001b[0;32mimport\u001b[0m \u001b[0mshapely\u001b[0m\u001b[0;34m.\u001b[0m\u001b[0mgeometry\u001b[0m\u001b[0;34m\u001b[0m\u001b[0m\n\u001b[1;32m      4\u001b[0m \u001b[0;32mimport\u001b[0m \u001b[0mpyproj\u001b[0m\u001b[0;34m\u001b[0m\u001b[0m\n\u001b[1;32m      5\u001b[0m \u001b[0;32mfrom\u001b[0m \u001b[0mfiona\u001b[0m\u001b[0;34m.\u001b[0m\u001b[0mcrs\u001b[0m \u001b[0;32mimport\u001b[0m \u001b[0mfrom_string\u001b[0m\u001b[0;34m,\u001b[0m \u001b[0mto_string\u001b[0m\u001b[0;34m\u001b[0m\u001b[0m\n",
      "\u001b[0;31mImportError\u001b[0m: No module named 'geopandas'"
     ]
    }
   ],
   "source": [
    "import geopandas as gp\n",
    "from shapely.geometry import Point, Polygon\n",
    "import shapely.geometry\n",
    "import pyproj\n",
    "from fiona.crs import from_string, to_string\n",
    "from geopy.geocoders import Nominatim\n",
    "import proximityhash\n",
    "import _geohash\n",
    "\n",
    "import pandas as pd\n",
    "import numpy as np\n",
    "import matplotlib.pyplot as plt\n",
    "%matplotlib inline\n",
    "import time\n",
    "import sys\n",
    "\n",
    "# set optional visual parameters for pylab\n",
    "from pylab import rcParams\n",
    "rcParams['figure.figsize'] = 10, 20\n",
    "plt.rcParams['image.cmap'] = 'YlGn'\n",
    "\n",
    "\n",
    "# set optional display parameters for pandas\n",
    "pd.options.display.max_rows = 6\n",
    "\n",
    "# Activate Geopy geocoder\n",
    "geolocator = Nominatim()"
   ]
  },
  {
   "cell_type": "code",
   "execution_count": null,
   "metadata": {
    "collapsed": true
   },
   "outputs": [],
   "source": []
  }
 ],
 "metadata": {
  "kernelspec": {
   "display_name": "Python [conda env:py35]",
   "language": "python",
   "name": "conda-env-py35-py"
  },
  "language_info": {
   "codemirror_mode": {
    "name": "ipython",
    "version": 3
   },
   "file_extension": ".py",
   "mimetype": "text/x-python",
   "name": "python",
   "nbconvert_exporter": "python",
   "pygments_lexer": "ipython3",
   "version": "3.5.2"
  }
 },
 "nbformat": 4,
 "nbformat_minor": 2
}
