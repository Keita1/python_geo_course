{
 "cells": [
  {
   "cell_type": "markdown",
   "metadata": {},
   "source": [
    "# GIS and Machine Learning with Python"
   ]
  },
  {
   "cell_type": "markdown",
   "metadata": {},
   "source": [
    "This workshop is designed to get you familiar with basic GIS and machine learning functionality with a python SW stack. \n",
    "\n",
    "By the end of these lessions, you should be able to:\n",
    " - Download, explore, and plot from spatial files\n",
    " - Do basic manipulations of spatial shapes\n",
    " - Perform basic spatial analyses\n",
    " - Combine results from a machine learning model with spatial data"
   ]
  },
  {
   "cell_type": "markdown",
   "metadata": {},
   "source": [
    "This workshop will be done using Jupyter Notebooks and requires the following modules:\n",
    "     - GIS Modules\n",
    "            - Geopandas\n",
    "            - Shapely\n",
    "            - Pyproj\n",
    "            - Fiona\n",
    "            - Geopy\n",
    "            - Proximity Hash\n",
    "            - Geohash\n",
    "            \n",
    "     - General Purpose Modules\n",
    "             - Pandas\n",
    "             - Matplotlib\n",
    "             - Numpy\n",
    "             - Pylab\n",
    "             - Time\n",
    "             - Sys"
   ]
  },
  {
   "cell_type": "code",
   "execution_count": 40,
   "metadata": {
    "collapsed": true
   },
   "outputs": [],
   "source": [
    "import geopandas as gp\n",
    "from shapely.geometry import Point, LineString, Polygon\n",
    "import shapely.geometry\n",
    "import pyproj\n",
    "from fiona.crs import from_string, to_string\n",
    "from geopy.geocoders import Nominatim, GoogleV3\n",
    "import proximityhash\n",
    "# import _geohash\n",
    "\n",
    "import pandas as pd\n",
    "import numpy as np\n",
    "import matplotlib.pyplot as plt\n",
    "%matplotlib inline\n",
    "import time\n",
    "import sys\n",
    "\n",
    "# set optional visual parameters for pylab\n",
    "from pylab import rcParams\n",
    "rcParams['figure.figsize'] = 10, 20\n",
    "plt.rcParams['image.cmap'] = 'YlGn'\n",
    "\n",
    "\n",
    "# set optional display parameters for pandas\n",
    "pd.options.display.max_rows = 6\n",
    "\n",
    "# Activate Geopy geocoder\n",
    "geolocator = Nominatim()\n",
    "geolocator2 = GoogleV3()"
   ]
  },
  {
   "cell_type": "markdown",
   "metadata": {},
   "source": [
    "## Part 1 - Basic GIS"
   ]
  },
  {
   "cell_type": "markdown",
   "metadata": {},
   "source": [
    "1.1 Geometry"
   ]
  },
  {
   "cell_type": "markdown",
   "metadata": {},
   "source": [
    "Geography is underlaid by geometrical shapes. When working with the geo-tools, we'll be dealing with 3 main elements: points, lines, and polygons. In this first section, we'll practice creating, analyzing and manipulating these elements."
   ]
  },
  {
   "cell_type": "markdown",
   "metadata": {},
   "source": [
    "2D Points"
   ]
  },
  {
   "cell_type": "code",
   "execution_count": 2,
   "metadata": {},
   "outputs": [
    {
     "data": {
      "image/svg+xml": [
       "<svg xmlns=\"http://www.w3.org/2000/svg\" xmlns:xlink=\"http://www.w3.org/1999/xlink\" width=\"100.0\" height=\"100.0\" viewBox=\"0.19999999999999996 49.0 2.0 2.0\" preserveAspectRatio=\"xMinYMin meet\"><g transform=\"matrix(1,0,0,-1,0,100.0)\"><circle cx=\"1.2\" cy=\"50.0\" r=\"0.06\" stroke=\"#555555\" stroke-width=\"0.02\" fill=\"#66cc99\" opacity=\"0.6\" /></g></svg>"
      ],
      "text/plain": [
       "<shapely.geometry.point.Point at 0x1032920b8>"
      ]
     },
     "execution_count": 2,
     "metadata": {},
     "output_type": "execute_result"
    }
   ],
   "source": [
    "\n",
    "point1 = Point(1.2, 50) \n",
    "point2 = Point(5, -42.0)\n",
    "point3 = Point(-6, 3.5)\n",
    "point1"
   ]
  },
  {
   "cell_type": "code",
   "execution_count": 3,
   "metadata": {},
   "outputs": [
    {
     "name": "stdout",
     "output_type": "stream",
     "text": [
      "POINT (1.2 50)\n"
     ]
    }
   ],
   "source": [
    "print(point1)"
   ]
  },
  {
   "cell_type": "code",
   "execution_count": 4,
   "metadata": {},
   "outputs": [
    {
     "data": {
      "text/plain": [
       "(1.2, 50.0, (array('d', [1.2]), array('d', [50.0])))"
      ]
     },
     "execution_count": 4,
     "metadata": {},
     "output_type": "execute_result"
    }
   ],
   "source": [
    "# 2D Points have a few use methods and attributes including: coordinates, geom_type, distance\n",
    "point1.x, point1.y, point1.coords.xy"
   ]
  },
  {
   "cell_type": "code",
   "execution_count": 5,
   "metadata": {},
   "outputs": [
    {
     "data": {
      "text/plain": [
       "'Point'"
      ]
     },
     "execution_count": 5,
     "metadata": {},
     "output_type": "execute_result"
    }
   ],
   "source": [
    "# If you ever get confused about what a shapely object is, you can call \"geom_type\"\n",
    "point1.geom_type"
   ]
  },
  {
   "cell_type": "code",
   "execution_count": 6,
   "metadata": {},
   "outputs": [
    {
     "data": {
      "text/plain": [
       "92.078444817449"
      ]
     },
     "execution_count": 6,
     "metadata": {},
     "output_type": "execute_result"
    }
   ],
   "source": [
    "# Given another point, the \"distance\" method an calclate the distance\n",
    "point1.distance(point2)"
   ]
  },
  {
   "cell_type": "markdown",
   "metadata": {},
   "source": [
    " LineStrings"
   ]
  },
  {
   "cell_type": "code",
   "execution_count": 7,
   "metadata": {},
   "outputs": [
    {
     "data": {
      "image/svg+xml": [
       "<svg xmlns=\"http://www.w3.org/2000/svg\" xmlns:xlink=\"http://www.w3.org/1999/xlink\" width=\"100.0\" height=\"100.0\" viewBox=\"-9.68 -45.68 18.36 99.36\" preserveAspectRatio=\"xMinYMin meet\"><g transform=\"matrix(1,0,0,-1,0,8.0)\"><polyline fill=\"none\" stroke=\"#66cc99\" stroke-width=\"1.9872\" points=\"1.2,50.0 5.0,-42.0 -6.0,3.5\" opacity=\"0.8\" /></g></svg>"
      ],
      "text/plain": [
       "<shapely.geometry.linestring.LineString at 0x103292128>"
      ]
     },
     "execution_count": 7,
     "metadata": {},
     "output_type": "execute_result"
    }
   ],
   "source": [
    "\n",
    "# We can create lines by entering coordinates, or by using points\n",
    "\n",
    "line1 = LineString([point1, point2, point3])\n",
    "line1\n",
    "\n"
   ]
  },
  {
   "cell_type": "code",
   "execution_count": 8,
   "metadata": {},
   "outputs": [
    {
     "data": {
      "image/svg+xml": [
       "<svg xmlns=\"http://www.w3.org/2000/svg\" xmlns:xlink=\"http://www.w3.org/1999/xlink\" width=\"100.0\" height=\"100.0\" viewBox=\"-9.68 -45.68 18.36 99.36\" preserveAspectRatio=\"xMinYMin meet\"><g transform=\"matrix(1,0,0,-1,0,8.0)\"><polyline fill=\"none\" stroke=\"#66cc99\" stroke-width=\"1.9872\" points=\"1.2,50.0 5.0,-42.0 -6.0,3.5\" opacity=\"0.8\" /></g></svg>"
      ],
      "text/plain": [
       "<shapely.geometry.linestring.LineString at 0x1032a10f0>"
      ]
     },
     "execution_count": 8,
     "metadata": {},
     "output_type": "execute_result"
    }
   ],
   "source": [
    "# I can enter the coordinate of our original points and get the same result\n",
    "\n",
    "line2 = LineString([(1.2, 50), (5, -42.0), (-6, 3.5)])\n",
    "line2"
   ]
  },
  {
   "cell_type": "code",
   "execution_count": 9,
   "metadata": {},
   "outputs": [
    {
     "name": "stdout",
     "output_type": "stream",
     "text": [
      "LINESTRING (1.2 50, 5 -42, -6 3.5)\n"
     ]
    }
   ],
   "source": [
    "print(line1)"
   ]
  },
  {
   "cell_type": "code",
   "execution_count": 10,
   "metadata": {},
   "outputs": [
    {
     "data": {
      "text/plain": [
       "'LineString'"
      ]
     },
     "execution_count": 10,
     "metadata": {},
     "output_type": "execute_result"
    }
   ],
   "source": [
    "line1.geom_type"
   ]
  },
  {
   "cell_type": "code",
   "execution_count": 11,
   "metadata": {},
   "outputs": [
    {
     "name": "stdout",
     "output_type": "stream",
     "text": [
      "POINT (1.886667356320875 -3.836106657094351)\n"
     ]
    }
   ],
   "source": [
    "# the 'centroid' method\n",
    "print(line1.centroid)"
   ]
  },
  {
   "cell_type": "code",
   "execution_count": 12,
   "metadata": {},
   "outputs": [
    {
     "name": "stdout",
     "output_type": "stream",
     "text": [
      "MULTIPOINT (1.2 50, -6 3.5)\n"
     ]
    }
   ],
   "source": [
    "# the \"boundary\" method\n",
    "print(line1.boundary)"
   ]
  },
  {
   "cell_type": "code",
   "execution_count": 13,
   "metadata": {},
   "outputs": [
    {
     "data": {
      "text/plain": [
       "138.88923417204117"
      ]
     },
     "execution_count": 13,
     "metadata": {},
     "output_type": "execute_result"
    }
   ],
   "source": [
    "# the 'length' attribute\n",
    "line1.length"
   ]
  },
  {
   "cell_type": "code",
   "execution_count": 14,
   "metadata": {},
   "outputs": [
    {
     "data": {
      "text/plain": [
       "(array('d', [1.2, 5.0, -6.0]), array('d', [50.0, -42.0, 3.5]))"
      ]
     },
     "execution_count": 14,
     "metadata": {},
     "output_type": "execute_result"
    }
   ],
   "source": [
    "# We can also get the x & y coordinates of the line\n",
    "line1.xy"
   ]
  },
  {
   "cell_type": "markdown",
   "metadata": {},
   "source": [
    "Polygons"
   ]
  },
  {
   "cell_type": "markdown",
   "metadata": {},
   "source": [
    "We can create polygons from points (by using their coordinates), or by inputing coordinates.\n",
    "\n",
    "Using the previously generated points...."
   ]
  },
  {
   "cell_type": "code",
   "execution_count": 15,
   "metadata": {},
   "outputs": [
    {
     "data": {
      "image/svg+xml": [
       "<svg xmlns=\"http://www.w3.org/2000/svg\" xmlns:xlink=\"http://www.w3.org/1999/xlink\" width=\"100.0\" height=\"100.0\" viewBox=\"-9.68 -45.68 18.36 99.36\" preserveAspectRatio=\"xMinYMin meet\"><g transform=\"matrix(1,0,0,-1,0,8.0)\"><path fill-rule=\"evenodd\" fill=\"#66cc99\" stroke=\"#555555\" stroke-width=\"1.9872\" opacity=\"0.6\" d=\"M 1.2,50.0 L 5.0,-42.0 L -6.0,3.5 L 1.2,50.0 z\" /></g></svg>"
      ],
      "text/plain": [
       "<shapely.geometry.polygon.Polygon at 0x10cc38128>"
      ]
     },
     "execution_count": 15,
     "metadata": {},
     "output_type": "execute_result"
    }
   ],
   "source": [
    "# Create polygon from coordinates\n",
    "\n",
    "poly1 = Polygon([(1.2, 50), (5, -42.0), (-6, 3.5)])\n",
    "poly1"
   ]
  },
  {
   "cell_type": "code",
   "execution_count": 16,
   "metadata": {},
   "outputs": [
    {
     "data": {
      "image/svg+xml": [
       "<svg xmlns=\"http://www.w3.org/2000/svg\" xmlns:xlink=\"http://www.w3.org/1999/xlink\" width=\"100.0\" height=\"100.0\" viewBox=\"-9.68 -45.68 18.36 99.36\" preserveAspectRatio=\"xMinYMin meet\"><g transform=\"matrix(1,0,0,-1,0,8.0)\"><path fill-rule=\"evenodd\" fill=\"#66cc99\" stroke=\"#555555\" stroke-width=\"1.9872\" opacity=\"0.6\" d=\"M 1.2,50.0 L 5.0,-42.0 L -6.0,3.5 L 1.2,50.0 z\" /></g></svg>"
      ],
      "text/plain": [
       "<shapely.geometry.polygon.Polygon at 0x1032a11d0>"
      ]
     },
     "execution_count": 16,
     "metadata": {},
     "output_type": "execute_result"
    }
   ],
   "source": [
    "# Using something similar to a list comprehension, we can also generate the polygon using the coordinates of points\n",
    "\n",
    "poly2 = Polygon([[point.x, point.y] for point in [point1, point2, point3]])\n",
    "poly2"
   ]
  },
  {
   "cell_type": "code",
   "execution_count": 17,
   "metadata": {},
   "outputs": [
    {
     "name": "stdout",
     "output_type": "stream",
     "text": [
      "POLYGON ((1.2 50, 5 -42, -6 3.5, 1.2 50))\n"
     ]
    }
   ],
   "source": [
    "print(poly1)"
   ]
  },
  {
   "cell_type": "markdown",
   "metadata": {},
   "source": [
    "Like maps objects, for instance continents with lakes or bodies of water with islands, polygons can have one or more holes inside of them."
   ]
  },
  {
   "cell_type": "code",
   "execution_count": 18,
   "metadata": {
    "collapsed": true
   },
   "outputs": [],
   "source": [
    "larger_shape = [(-200, 100), (-200, -100), (200, -100), (200, 100)]\n",
    "hole = [[(-150, 50), (-150, -50), (150, -50), (150, 50)]]\n",
    "rect1 = Polygon(shell=larger_shape)\n",
    "rect_with_hole = Polygon(shell=larger_shape, holes=hole)"
   ]
  },
  {
   "cell_type": "code",
   "execution_count": 19,
   "metadata": {},
   "outputs": [
    {
     "data": {
      "image/svg+xml": [
       "<svg xmlns=\"http://www.w3.org/2000/svg\" xmlns:xlink=\"http://www.w3.org/1999/xlink\" width=\"300\" height=\"232.0\" viewBox=\"-216.0 -116.0 432.0 232.0\" preserveAspectRatio=\"xMinYMin meet\"><g transform=\"matrix(1,0,0,-1,0,0.0)\"><path fill-rule=\"evenodd\" fill=\"#66cc99\" stroke=\"#555555\" stroke-width=\"2.88\" opacity=\"0.6\" d=\"M -200.0,100.0 L -200.0,-100.0 L 200.0,-100.0 L 200.0,100.0 L -200.0,100.0 z\" /></g></svg>"
      ],
      "text/plain": [
       "<shapely.geometry.polygon.Polygon at 0x10cd1b240>"
      ]
     },
     "execution_count": 19,
     "metadata": {},
     "output_type": "execute_result"
    }
   ],
   "source": [
    "rect1"
   ]
  },
  {
   "cell_type": "code",
   "execution_count": 20,
   "metadata": {},
   "outputs": [
    {
     "data": {
      "image/svg+xml": [
       "<svg xmlns=\"http://www.w3.org/2000/svg\" xmlns:xlink=\"http://www.w3.org/1999/xlink\" width=\"300\" height=\"232.0\" viewBox=\"-216.0 -116.0 432.0 232.0\" preserveAspectRatio=\"xMinYMin meet\"><g transform=\"matrix(1,0,0,-1,0,0.0)\"><path fill-rule=\"evenodd\" fill=\"#66cc99\" stroke=\"#555555\" stroke-width=\"2.88\" opacity=\"0.6\" d=\"M -200.0,100.0 L -200.0,-100.0 L 200.0,-100.0 L 200.0,100.0 L -200.0,100.0 z M -150.0,50.0 L -150.0,-50.0 L 150.0,-50.0 L 150.0,50.0 L -150.0,50.0 z\" /></g></svg>"
      ],
      "text/plain": [
       "<shapely.geometry.polygon.Polygon at 0x1032a1320>"
      ]
     },
     "execution_count": 20,
     "metadata": {},
     "output_type": "execute_result"
    }
   ],
   "source": [
    "rect_with_hole"
   ]
  },
  {
   "cell_type": "code",
   "execution_count": 21,
   "metadata": {},
   "outputs": [
    {
     "name": "stdout",
     "output_type": "stream",
     "text": [
      "POLYGON ((-200 100, -200 -100, 200 -100, 200 100, -200 100), (-150 50, -150 -50, 150 -50, 150 50, -150 50))\n"
     ]
    }
   ],
   "source": [
    "# Notice the printout of this shape has two sets of tuples in enclosed parentheses, one for the surrounding object, \n",
    "# and one for the hole\n",
    "\n",
    "print(rect_with_hole)"
   ]
  },
  {
   "cell_type": "markdown",
   "metadata": {},
   "source": [
    "1.2 Downloading Shapefiles and Performing data exploration"
   ]
  },
  {
   "cell_type": "markdown",
   "metadata": {},
   "source": [
    "GeoPandas allows import and inspection of geo-spatial files, such as shapefiles.\n",
    "\n",
    "In this section, we'll download a file and do some basic inspection of it. Let's examine police precincts in Minneapolis.\n",
    "\n",
    "I got the below file \"Minneapolis_Police_Precincts.shp\" from: http://opendata.minneapolismn.gov/datasets/minneapolis-police-precincts?geometry=-180%2C-88.438%2C180%2C88.438 . Many government agencies, from very the very local (school districts and townships) to the national and international (USA departments, UN agencies), make geospatial data available for free.\n",
    "\n",
    "When downloading data, make sure you place all of the available files in one location. Even though below, we are loading only the .shp file, every file in its folder is needed for Geopandas to read it.\n"
   ]
  },
  {
   "cell_type": "code",
   "execution_count": 22,
   "metadata": {
    "collapsed": true
   },
   "outputs": [],
   "source": [
    "minne_police_precincts = gp.read_file('../data/Minneapolis_Police_Precincts.shp')"
   ]
  },
  {
   "cell_type": "markdown",
   "metadata": {},
   "source": [
    "Coordinate Reference Systems: You MUST have the CRS of the geospatial data. When such data is published, it is expected that the CRS is included. But this is not guaranteed. If you don't have or can't find it, try contacting the agency that published the information. Or try to find the reference systems for maps published by agencies in the same region.\n",
    "\n",
    "We can use the \"crs\" attribute to discover the CRS. But NOT ALL shapefiles contain this information.\n",
    "\n",
    "Why is this information important? If you are going to do more than rudimentary manipulation of your data, a CRS could be crucial. Data that describes information in the same physical location may be published in different reference systems. One example I've found in my work:\n",
    "    - Shapefiles describing the city boundaries\n",
    "    - Locations of post addresses\n",
    "    - Locations of crime events\n",
    "In this example, all 3 instances of data were in a different CRS. Without normalizing this data to one system, doing analysis or basic plotting would be impossible."
   ]
  },
  {
   "cell_type": "code",
   "execution_count": 23,
   "metadata": {},
   "outputs": [
    {
     "data": {
      "text/plain": [
       "{'init': 'epsg:4326'}"
      ]
     },
     "execution_count": 23,
     "metadata": {},
     "output_type": "execute_result"
    }
   ],
   "source": [
    "minne_police_precincts.crs\n"
   ]
  },
  {
   "cell_type": "code",
   "execution_count": 24,
   "metadata": {},
   "outputs": [
    {
     "name": "stdout",
     "output_type": "stream",
     "text": [
      "<class 'geopandas.geodataframe.GeoDataFrame'>\n",
      "RangeIndex: 5 entries, 0 to 4\n",
      "Data columns (total 5 columns):\n",
      "OBJECTID      5 non-null int64\n",
      "PRECINCT      5 non-null object\n",
      "Shape_STAr    5 non-null float64\n",
      "Shape_STLe    5 non-null float64\n",
      "geometry      5 non-null object\n",
      "dtypes: float64(2), int64(1), object(2)\n",
      "memory usage: 280.0+ bytes\n"
     ]
    }
   ],
   "source": [
    "minne_police_precincts.info()"
   ]
  },
  {
   "cell_type": "code",
   "execution_count": 25,
   "metadata": {},
   "outputs": [
    {
     "data": {
      "text/html": [
       "<div>\n",
       "<style>\n",
       "    .dataframe thead tr:only-child th {\n",
       "        text-align: right;\n",
       "    }\n",
       "\n",
       "    .dataframe thead th {\n",
       "        text-align: left;\n",
       "    }\n",
       "\n",
       "    .dataframe tbody tr th {\n",
       "        vertical-align: top;\n",
       "    }\n",
       "</style>\n",
       "<table border=\"1\" class=\"dataframe\">\n",
       "  <thead>\n",
       "    <tr style=\"text-align: right;\">\n",
       "      <th></th>\n",
       "      <th>OBJECTID</th>\n",
       "      <th>Shape_STAr</th>\n",
       "      <th>Shape_STLe</th>\n",
       "    </tr>\n",
       "  </thead>\n",
       "  <tbody>\n",
       "    <tr>\n",
       "      <th>count</th>\n",
       "      <td>5.000000</td>\n",
       "      <td>5.000000e+00</td>\n",
       "      <td>5.000000</td>\n",
       "    </tr>\n",
       "    <tr>\n",
       "      <th>mean</th>\n",
       "      <td>3.000000</td>\n",
       "      <td>3.202794e+08</td>\n",
       "      <td>84753.135627</td>\n",
       "    </tr>\n",
       "    <tr>\n",
       "      <th>std</th>\n",
       "      <td>1.581139</td>\n",
       "      <td>1.371562e+08</td>\n",
       "      <td>21750.347715</td>\n",
       "    </tr>\n",
       "    <tr>\n",
       "      <th>...</th>\n",
       "      <td>...</td>\n",
       "      <td>...</td>\n",
       "      <td>...</td>\n",
       "    </tr>\n",
       "    <tr>\n",
       "      <th>50%</th>\n",
       "      <td>3.000000</td>\n",
       "      <td>3.515368e+08</td>\n",
       "      <td>89658.738146</td>\n",
       "    </tr>\n",
       "    <tr>\n",
       "      <th>75%</th>\n",
       "      <td>4.000000</td>\n",
       "      <td>3.842519e+08</td>\n",
       "      <td>93920.868746</td>\n",
       "    </tr>\n",
       "    <tr>\n",
       "      <th>max</th>\n",
       "      <td>5.000000</td>\n",
       "      <td>4.616245e+08</td>\n",
       "      <td>103520.755021</td>\n",
       "    </tr>\n",
       "  </tbody>\n",
       "</table>\n",
       "<p>8 rows × 3 columns</p>\n",
       "</div>"
      ],
      "text/plain": [
       "       OBJECTID    Shape_STAr     Shape_STLe\n",
       "count  5.000000  5.000000e+00       5.000000\n",
       "mean   3.000000  3.202794e+08   84753.135627\n",
       "std    1.581139  1.371562e+08   21750.347715\n",
       "...         ...           ...            ...\n",
       "50%    3.000000  3.515368e+08   89658.738146\n",
       "75%    4.000000  3.842519e+08   93920.868746\n",
       "max    5.000000  4.616245e+08  103520.755021\n",
       "\n",
       "[8 rows x 3 columns]"
      ]
     },
     "execution_count": 25,
     "metadata": {},
     "output_type": "execute_result"
    }
   ],
   "source": [
    "minne_police_precincts.describe()"
   ]
  },
  {
   "cell_type": "code",
   "execution_count": 26,
   "metadata": {},
   "outputs": [
    {
     "data": {
      "text/html": [
       "<div>\n",
       "<style>\n",
       "    .dataframe thead tr:only-child th {\n",
       "        text-align: right;\n",
       "    }\n",
       "\n",
       "    .dataframe thead th {\n",
       "        text-align: left;\n",
       "    }\n",
       "\n",
       "    .dataframe tbody tr th {\n",
       "        vertical-align: top;\n",
       "    }\n",
       "</style>\n",
       "<table border=\"1\" class=\"dataframe\">\n",
       "  <thead>\n",
       "    <tr style=\"text-align: right;\">\n",
       "      <th></th>\n",
       "      <th>OBJECTID</th>\n",
       "      <th>PRECINCT</th>\n",
       "      <th>Shape_STAr</th>\n",
       "      <th>Shape_STLe</th>\n",
       "      <th>geometry</th>\n",
       "    </tr>\n",
       "  </thead>\n",
       "  <tbody>\n",
       "    <tr>\n",
       "      <th>0</th>\n",
       "      <td>1</td>\n",
       "      <td>1</td>\n",
       "      <td>9.659868e+07</td>\n",
       "      <td>47205.536504</td>\n",
       "      <td>POLYGON ((-93.27211391203549 44.9921313598964,...</td>\n",
       "    </tr>\n",
       "    <tr>\n",
       "      <th>1</th>\n",
       "      <td>2</td>\n",
       "      <td>2</td>\n",
       "      <td>3.515368e+08</td>\n",
       "      <td>89459.779720</td>\n",
       "      <td>POLYGON ((-93.22685080614011 45.0132165472863,...</td>\n",
       "    </tr>\n",
       "    <tr>\n",
       "      <th>2</th>\n",
       "      <td>3</td>\n",
       "      <td>3</td>\n",
       "      <td>4.616245e+08</td>\n",
       "      <td>103520.755021</td>\n",
       "      <td>POLYGON ((-93.2504437423931 44.9663370085168, ...</td>\n",
       "    </tr>\n",
       "    <tr>\n",
       "      <th>3</th>\n",
       "      <td>4</td>\n",
       "      <td>4</td>\n",
       "      <td>3.073853e+08</td>\n",
       "      <td>93920.868746</td>\n",
       "      <td>POLYGON ((-93.31949186501051 45.0512462469094,...</td>\n",
       "    </tr>\n",
       "    <tr>\n",
       "      <th>4</th>\n",
       "      <td>5</td>\n",
       "      <td>5</td>\n",
       "      <td>3.842519e+08</td>\n",
       "      <td>89658.738146</td>\n",
       "      <td>POLYGON ((-93.287640885683 44.969659207443, -9...</td>\n",
       "    </tr>\n",
       "  </tbody>\n",
       "</table>\n",
       "</div>"
      ],
      "text/plain": [
       "   OBJECTID PRECINCT    Shape_STAr     Shape_STLe  \\\n",
       "0         1        1  9.659868e+07   47205.536504   \n",
       "1         2        2  3.515368e+08   89459.779720   \n",
       "2         3        3  4.616245e+08  103520.755021   \n",
       "3         4        4  3.073853e+08   93920.868746   \n",
       "4         5        5  3.842519e+08   89658.738146   \n",
       "\n",
       "                                            geometry  \n",
       "0  POLYGON ((-93.27211391203549 44.9921313598964,...  \n",
       "1  POLYGON ((-93.22685080614011 45.0132165472863,...  \n",
       "2  POLYGON ((-93.2504437423931 44.9663370085168, ...  \n",
       "3  POLYGON ((-93.31949186501051 45.0512462469094,...  \n",
       "4  POLYGON ((-93.287640885683 44.969659207443, -9...  "
      ]
     },
     "execution_count": 26,
     "metadata": {},
     "output_type": "execute_result"
    }
   ],
   "source": [
    "minne_police_precincts.head()"
   ]
  },
  {
   "cell_type": "code",
   "execution_count": 27,
   "metadata": {},
   "outputs": [
    {
     "data": {
      "text/plain": [
       "<matplotlib.axes._subplots.AxesSubplot at 0x10cd80128>"
      ]
     },
     "execution_count": 27,
     "metadata": {},
     "output_type": "execute_result"
    },
    {
     "data": {
      "image/png": "[encoded data removed]",
      "text/plain": [
       "<matplotlib.figure.Figure at 0x10cd1b668>"
      ]
     },
     "metadata": {},
     "output_type": "display_data"
    }
   ],
   "source": [
    "minne_police_precincts.plot()"
   ]
  },
  {
   "cell_type": "markdown",
   "metadata": {
    "collapsed": true
   },
   "source": [
    "Now that we have some basic boundaries of the city, let's annotate it a bit. First, let's find the location of this workshop, and place it on the map, with a label.\n",
    "\n",
    "The address of the McNamara Alumni Center is  200 Oak St SE, Minneapolis, MN 55455.\n",
    "\n",
    "We can find this location, with other data on google maps: https://www.google.com/maps/place/McNamara+Alumni+Center/@44.9750747,-93.2273836,15z/data=!4m5!3m4!1s0x0:0x5f984f594ceab6ad!8m2!3d44.9750747!4d-93.2273836\n",
    "\n",
    "We can also notice latitude/longitude coordinates in the link of the location. However, what if we only had the address? How can we find the coordinates? This is where geocoding comes in. Geocoding tools convert postal addresses to geographical coordinates like latitude and longitude.\n",
    "\n",
    "We are using the module geopy, and the Nominatum service to produce the coordinates. Nominatum (a service of the  OpenStreetMap Foundation) has a limit of one request per second, which is more than adequeate for our case. "
   ]
  },
  {
   "cell_type": "code",
   "execution_count": 52,
   "metadata": {},
   "outputs": [
    {
     "ename": "AttributeError",
     "evalue": "'NoneType' object has no attribute 'longitude'",
     "output_type": "error",
     "traceback": [
      "\u001b[0;31m---------------------------------------------------------------------------\u001b[0m",
      "\u001b[0;31mAttributeError\u001b[0m                            Traceback (most recent call last)",
      "\u001b[0;32m<ipython-input-52-172f4f67f758>\u001b[0m in \u001b[0;36m<module>\u001b[0;34m()\u001b[0m\n\u001b[1;32m      2\u001b[0m \u001b[0mlocation\u001b[0m \u001b[0;34m=\u001b[0m \u001b[0mgeolocator\u001b[0m\u001b[0;34m.\u001b[0m\u001b[0mgeocode\u001b[0m\u001b[0;34m(\u001b[0m\u001b[0mtest_addrs\u001b[0m\u001b[0;34m,\u001b[0m\u001b[0mtimeout\u001b[0m\u001b[0;34m=\u001b[0m\u001b[0;36m10\u001b[0m\u001b[0;34m)\u001b[0m\u001b[0;34m\u001b[0m\u001b[0m\n\u001b[1;32m      3\u001b[0m \u001b[0;34m\u001b[0m\u001b[0m\n\u001b[0;32m----> 4\u001b[0;31m \u001b[0mpoint_rhode\u001b[0m \u001b[0;34m=\u001b[0m \u001b[0mPoint\u001b[0m\u001b[0;34m(\u001b[0m \u001b[0mlocation\u001b[0m\u001b[0;34m.\u001b[0m\u001b[0mlongitude\u001b[0m\u001b[0;34m,\u001b[0m \u001b[0mlocation\u001b[0m\u001b[0;34m.\u001b[0m\u001b[0mlatitude\u001b[0m\u001b[0;34m)\u001b[0m\u001b[0;34m\u001b[0m\u001b[0m\n\u001b[0m\u001b[1;32m      5\u001b[0m \u001b[0mprint\u001b[0m\u001b[0;34m(\u001b[0m\u001b[0mpoint_rhode\u001b[0m\u001b[0;34m)\u001b[0m\u001b[0;34m\u001b[0m\u001b[0m\n",
      "\u001b[0;31mAttributeError\u001b[0m: 'NoneType' object has no attribute 'longitude'"
     ]
    }
   ],
   "source": [
    "test_addrs = '200 Oak St SE, Minneapolis, MN 55455'\n",
    "location = geolocator.geocode(test_addrs,timeout=10)\n",
    "\n",
    "point_rhode = Point( location.longitude, location.latitude)\n",
    "print(point_rhode)"
   ]
  },
  {
   "cell_type": "markdown",
   "metadata": {},
   "source": [
    "What happened? No geocode service is perfect, and it seems that Nominatum cannot geocode the address for an unknown reason. Let's try Google Maps."
   ]
  },
  {
   "cell_type": "code",
   "execution_count": 51,
   "metadata": {},
   "outputs": [
    {
     "name": "stdout",
     "output_type": "stream",
     "text": [
      "POINT (-93.22760269999999 44.97538489999999)\n"
     ]
    }
   ],
   "source": [
    "test_addrs2 = '200 Oak St SE, Minneapolis, MN 55455'\n",
    "location2 = geolocator2.geocode(test_addrs2, timeout=10)\n",
    "\n",
    "point_mac = Point( location2.longitude, location2.latitude)\n",
    "print(point_mac)"
   ]
  },
  {
   "cell_type": "markdown",
   "metadata": {},
   "source": [
    "That seems to work. Below are items you can extract from the geocode object"
   ]
  },
  {
   "cell_type": "code",
   "execution_count": 48,
   "metadata": {},
   "outputs": [
    {
     "name": "stdout",
     "output_type": "stream",
     "text": [
      "44.97538489999999 -93.22760269999999\n",
      "\n",
      "{'formatted_address': '200 SE Oak St, Minneapolis, MN 55455, USA', 'place_id': 'ChIJzSHy7hgts1IRiIsXrvGJMyw', 'partial_match': True, 'types': ['street_address'], 'address_components': [{'types': ['street_number'], 'long_name': '200', 'short_name': '200'}, {'types': ['route'], 'long_name': 'Southeast Oak Street', 'short_name': 'SE Oak St'}, {'types': ['neighborhood', 'political'], 'long_name': 'University of Minnesota - Twin Cities', 'short_name': 'University of Minnesota - Twin Cities'}, {'types': ['locality', 'political'], 'long_name': 'Minneapolis', 'short_name': 'Minneapolis'}, {'types': ['administrative_area_level_2', 'political'], 'long_name': 'Hennepin County', 'short_name': 'Hennepin County'}, {'types': ['administrative_area_level_1', 'political'], 'long_name': 'Minnesota', 'short_name': 'MN'}, {'types': ['country', 'political'], 'long_name': 'United States', 'short_name': 'US'}, {'types': ['postal_code'], 'long_name': '55455', 'short_name': '55455'}], 'geometry': {'location': {'lat': 44.97538489999999, 'lng': -93.22760269999999}, 'viewport': {'northeast': {'lat': 44.97673388029149, 'lng': -93.2262537197085}, 'southwest': {'lat': 44.97403591970849, 'lng': -93.2289516802915}}, 'location_type': 'ROOFTOP'}}\n",
      "\n",
      "200 SE Oak St, Minneapolis, MN 55455, USA\n"
     ]
    }
   ],
   "source": [
    "print(location2.latitude, location2.longitude)\n",
    "print('')\n",
    "print(location2.raw)\n",
    "print('')\n",
    "print(location2.address)"
   ]
  },
  {
   "cell_type": "markdown",
   "metadata": {},
   "source": [
    "OK, so let's print this coordinate to our map"
   ]
  },
  {
   "cell_type": "code",
   "execution_count": 53,
   "metadata": {},
   "outputs": [
    {
     "data": {
      "text/plain": [
       "[<matplotlib.lines.Line2D at 0x10e060198>]"
      ]
     },
     "execution_count": 53,
     "metadata": {},
     "output_type": "execute_result"
    },
    {
     "data": {
      "image/png": "[encoded data removed]",
      "text/plain": [
       "<matplotlib.figure.Figure at 0x10d7282e8>"
      ]
     },
     "metadata": {},
     "output_type": "display_data"
    }
   ],
   "source": [
    "fig, ax = plt.subplots(figsize=(12,10), subplot_kw={'aspect':'equal'})\n",
    "minne_police_precincts.plot( legend=True, ax=ax)\n",
    "plt.plot(location2.latitude,location2.longitude,'bo')"
   ]
  },
  {
   "cell_type": "code",
   "execution_count": 57,
   "metadata": {},
   "outputs": [
    {
     "data": {
      "text/plain": [
       "0    POINT (-93.22760269999999 44.97538489999999)\n",
       "dtype: object"
      ]
     },
     "execution_count": 57,
     "metadata": {},
     "output_type": "execute_result"
    }
   ],
   "source": [
    "pt_mac = gp.GeoSeries([point_mac])\n",
    "pt_mac.crs = {'init': 'epsg:4326', 'no_defs': True}\n",
    "pt_mac"
   ]
  },
  {
   "cell_type": "code",
   "execution_count": 62,
   "metadata": {},
   "outputs": [
    {
     "data": {
      "text/plain": [
       "(-93.22760269999999, 44.97538489999999)"
      ]
     },
     "execution_count": 62,
     "metadata": {},
     "output_type": "execute_result"
    }
   ],
   "source": [
    "pt_mac[0].x, pt_mac[0].y"
   ]
  },
  {
   "cell_type": "code",
   "execution_count": 63,
   "metadata": {},
   "outputs": [
    {
     "data": {
      "text/plain": [
       "[<matplotlib.lines.Line2D at 0x1120cf0f0>]"
      ]
     },
     "execution_count": 63,
     "metadata": {},
     "output_type": "execute_result"
    },
    {
     "data": {
      "image/png": "[encoded data removed]",
      "text/plain": [
       "<matplotlib.figure.Figure at 0x1114a3630>"
      ]
     },
     "metadata": {},
     "output_type": "display_data"
    }
   ],
   "source": [
    "fig, ax = plt.subplots(figsize=(12,10), subplot_kw={'aspect':'equal'})\n",
    "minne_police_precincts.plot( legend=True, ax=ax)\n",
    "plt.plot(pt_mac[0].x, pt_mac[0].y,'bo')"
   ]
  },
  {
   "cell_type": "code",
   "execution_count": null,
   "metadata": {
    "collapsed": true
   },
   "outputs": [],
   "source": []
  }
 ],
 "metadata": {
  "kernelspec": {
   "display_name": "Python [conda env:geoenv]",
   "language": "python",
   "name": "conda-env-geoenv-py"
  },
  "language_info": {
   "codemirror_mode": {
    "name": "ipython",
    "version": 3
   },
   "file_extension": ".py",
   "mimetype": "text/x-python",
   "name": "python",
   "nbconvert_exporter": "python",
   "pygments_lexer": "ipython3",
   "version": "3.5.4"
  }
 },
 "nbformat": 4,
 "nbformat_minor": 2
}
