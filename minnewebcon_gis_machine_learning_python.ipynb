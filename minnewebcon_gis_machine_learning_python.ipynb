{
 "cells": [
  {
   "cell_type": "markdown",
   "metadata": {},
   "source": [
    "# GIS and Machine Learning with Python"
   ]
  },
  {
   "cell_type": "markdown",
   "metadata": {},
   "source": [
    "This workshop is designed to get you familiar with basic GIS and machine learning functionality with a python SW stack. \n",
    "\n",
    "By the end of these lessions, you should be able to:\n",
    " - Download, explore, and plot from spatial files\n",
    " - Do basic manipulations of spatial shapes\n",
    " - Perform basic spatial analyses\n",
    " - Combine results from a machine learning model with spatial data"
   ]
  },
  {
   "cell_type": "markdown",
   "metadata": {},
   "source": [
    "This workshop will be done using Jupyter Notebooks and requires the following modules:\n",
    "     - GIS Modules\n",
    "            - Geopandas\n",
    "            - Shapely\n",
    "            - Pyproj\n",
    "            - Fiona\n",
    "            - Geopy\n",
    "            - Proximity Hash\n",
    "            - Geohash\n",
    "            \n",
    "     - General Purpose Modules\n",
    "             - Pandas\n",
    "             - Matplotlib\n",
    "             - Numpy\n",
    "             - Pylab\n",
    "             - Time\n",
    "             - Sys"
   ]
  },
  {
   "cell_type": "code",
   "execution_count": 3,
   "metadata": {},
   "outputs": [],
   "source": [
    "import geopandas as gp\n",
    "from shapely.geometry import Point, LineString, Polygon\n",
    "import shapely.geometry\n",
    "import pyproj\n",
    "from fiona.crs import from_string, to_string\n",
    "from geopy.geocoders import Nominatim\n",
    "import proximityhash\n",
    "# import _geohash\n",
    "\n",
    "import pandas as pd\n",
    "import numpy as np\n",
    "import matplotlib.pyplot as plt\n",
    "%matplotlib inline\n",
    "import time\n",
    "import sys\n",
    "\n",
    "# set optional visual parameters for pylab\n",
    "from pylab import rcParams\n",
    "rcParams['figure.figsize'] = 10, 20\n",
    "plt.rcParams['image.cmap'] = 'YlGn'\n",
    "\n",
    "\n",
    "# set optional display parameters for pandas\n",
    "pd.options.display.max_rows = 6\n",
    "\n",
    "# Activate Geopy geocoder\n",
    "geolocator = Nominatim()"
   ]
  },
  {
   "cell_type": "markdown",
   "metadata": {},
   "source": [
    "## Part 1 - Basic GIS"
   ]
  },
  {
   "cell_type": "markdown",
   "metadata": {},
   "source": [
    "1.1 Geometry"
   ]
  },
  {
   "cell_type": "markdown",
   "metadata": {},
   "source": [
    "Geography is underlaid by geometrical shapes. When working with the geo-tools, we'll be dealing with 3 main elements: points, lines, and polygons. In this first section, we'll practice creating, analyzing and manipulating these elements."
   ]
  },
  {
   "cell_type": "markdown",
   "metadata": {},
   "source": [
    "2D Points"
   ]
  },
  {
   "cell_type": "code",
   "execution_count": 23,
   "metadata": {},
   "outputs": [
    {
     "data": {
      "image/svg+xml": [
       "<svg xmlns=\"http://www.w3.org/2000/svg\" xmlns:xlink=\"http://www.w3.org/1999/xlink\" width=\"100.0\" height=\"100.0\" viewBox=\"0.19999999999999996 49.0 2.0 2.0\" preserveAspectRatio=\"xMinYMin meet\"><g transform=\"matrix(1,0,0,-1,0,100.0)\"><circle cx=\"1.2\" cy=\"50.0\" r=\"0.06\" stroke=\"#555555\" stroke-width=\"0.02\" fill=\"#66cc99\" opacity=\"0.6\" /></g></svg>"
      ],
      "text/plain": [
       "<shapely.geometry.point.Point at 0x10eed7f60>"
      ]
     },
     "execution_count": 23,
     "metadata": {},
     "output_type": "execute_result"
    }
   ],
   "source": [
    "\n",
    "point1 = Point(1.2, 50) \n",
    "point2 = Point(5, -42.0)\n",
    "point3 = Point(-6, 3.5)\n",
    "point1"
   ]
  },
  {
   "cell_type": "code",
   "execution_count": 38,
   "metadata": {},
   "outputs": [
    {
     "name": "stdout",
     "output_type": "stream",
     "text": [
      "POINT (1.2 50)\n"
     ]
    }
   ],
   "source": [
    "print(point1)"
   ]
  },
  {
   "cell_type": "code",
   "execution_count": 20,
   "metadata": {},
   "outputs": [
    {
     "data": {
      "text/plain": [
       "(1.2, 50.0, (array('d', [1.2]), array('d', [50.0])))"
      ]
     },
     "execution_count": 20,
     "metadata": {},
     "output_type": "execute_result"
    }
   ],
   "source": [
    "# 2D Points have a few use methods and attributes including: coordinates, geom_type, distance\n",
    "point1.x, point1.y, point1.coords.xy"
   ]
  },
  {
   "cell_type": "code",
   "execution_count": 19,
   "metadata": {},
   "outputs": [
    {
     "data": {
      "text/plain": [
       "'Point'"
      ]
     },
     "execution_count": 19,
     "metadata": {},
     "output_type": "execute_result"
    }
   ],
   "source": [
    "# If you ever get confused about what a shapely object is, you can call \"geom_type\"\n",
    "point1.geom_type"
   ]
  },
  {
   "cell_type": "code",
   "execution_count": 22,
   "metadata": {},
   "outputs": [
    {
     "data": {
      "text/plain": [
       "92.078444817449"
      ]
     },
     "execution_count": 22,
     "metadata": {},
     "output_type": "execute_result"
    }
   ],
   "source": [
    "# Given another point, the \"distance\" method an calclate the distance\n",
    "point1.distance(point2)"
   ]
  },
  {
   "cell_type": "markdown",
   "metadata": {},
   "source": [
    " LineStrings"
   ]
  },
  {
   "cell_type": "code",
   "execution_count": 24,
   "metadata": {},
   "outputs": [
    {
     "data": {
      "image/svg+xml": [
       "<svg xmlns=\"http://www.w3.org/2000/svg\" xmlns:xlink=\"http://www.w3.org/1999/xlink\" width=\"100.0\" height=\"100.0\" viewBox=\"-9.68 -45.68 18.36 99.36\" preserveAspectRatio=\"xMinYMin meet\"><g transform=\"matrix(1,0,0,-1,0,8.0)\"><polyline fill=\"none\" stroke=\"#66cc99\" stroke-width=\"1.9872\" points=\"1.2,50.0 5.0,-42.0 -6.0,3.5\" opacity=\"0.8\" /></g></svg>"
      ],
      "text/plain": [
       "<shapely.geometry.linestring.LineString at 0x10eed7748>"
      ]
     },
     "execution_count": 24,
     "metadata": {},
     "output_type": "execute_result"
    }
   ],
   "source": [
    "\n",
    "# We can create lines by entering coordinates, or by using points\n",
    "\n",
    "line1 = LineString([point1, point2, point3])\n",
    "line1\n",
    "\n"
   ]
  },
  {
   "cell_type": "code",
   "execution_count": 27,
   "metadata": {},
   "outputs": [
    {
     "data": {
      "image/svg+xml": [
       "<svg xmlns=\"http://www.w3.org/2000/svg\" xmlns:xlink=\"http://www.w3.org/1999/xlink\" width=\"100.0\" height=\"100.0\" viewBox=\"-9.68 -45.68 18.36 99.36\" preserveAspectRatio=\"xMinYMin meet\"><g transform=\"matrix(1,0,0,-1,0,8.0)\"><polyline fill=\"none\" stroke=\"#66cc99\" stroke-width=\"1.9872\" points=\"1.2,50.0 5.0,-42.0 -6.0,3.5\" opacity=\"0.8\" /></g></svg>"
      ],
      "text/plain": [
       "<shapely.geometry.linestring.LineString at 0x10eed7390>"
      ]
     },
     "execution_count": 27,
     "metadata": {},
     "output_type": "execute_result"
    }
   ],
   "source": [
    "# I can enter the coordinate of our original points and get the same result\n",
    "\n",
    "line2 = LineString([(1.2, 50), (5, -42.0), (-6, 3.5)])\n",
    "line2"
   ]
  },
  {
   "cell_type": "code",
   "execution_count": 28,
   "metadata": {},
   "outputs": [
    {
     "name": "stdout",
     "output_type": "stream",
     "text": [
      "LINESTRING (1.2 50, 5 -42, -6 3.5)\n"
     ]
    }
   ],
   "source": [
    "print(line1)"
   ]
  },
  {
   "cell_type": "code",
   "execution_count": 29,
   "metadata": {},
   "outputs": [
    {
     "data": {
      "text/plain": [
       "'LineString'"
      ]
     },
     "execution_count": 29,
     "metadata": {},
     "output_type": "execute_result"
    }
   ],
   "source": [
    "line1.geom_type"
   ]
  },
  {
   "cell_type": "code",
   "execution_count": 31,
   "metadata": {},
   "outputs": [
    {
     "name": "stdout",
     "output_type": "stream",
     "text": [
      "POINT (1.886667356320875 -3.836106657094351)\n"
     ]
    }
   ],
   "source": [
    "# the 'centroid' method\n",
    "print(line1.centroid)"
   ]
  },
  {
   "cell_type": "code",
   "execution_count": 33,
   "metadata": {},
   "outputs": [
    {
     "name": "stdout",
     "output_type": "stream",
     "text": [
      "MULTIPOINT (1.2 50, -6 3.5)\n"
     ]
    }
   ],
   "source": [
    "# the \"boundary\" method\n",
    "print(line1.boundary)"
   ]
  },
  {
   "cell_type": "code",
   "execution_count": 35,
   "metadata": {},
   "outputs": [
    {
     "data": {
      "text/plain": [
       "138.88923417204117"
      ]
     },
     "execution_count": 35,
     "metadata": {},
     "output_type": "execute_result"
    }
   ],
   "source": [
    "# the 'length' attribute\n",
    "line1.length"
   ]
  },
  {
   "cell_type": "code",
   "execution_count": 37,
   "metadata": {},
   "outputs": [
    {
     "data": {
      "text/plain": [
       "(array('d', [1.2, 5.0, -6.0]), array('d', [50.0, -42.0, 3.5]))"
      ]
     },
     "execution_count": 37,
     "metadata": {},
     "output_type": "execute_result"
    }
   ],
   "source": [
    "# We can also get the x & y coordinates of the line\n",
    "line1.xy"
   ]
  },
  {
   "cell_type": "markdown",
   "metadata": {},
   "source": [
    "Polygons"
   ]
  },
  {
   "cell_type": "markdown",
   "metadata": {},
   "source": [
    "We can create polygons from points (by using their coordinates), or by inputing coordinates.\n",
    "\n",
    "Using the previously generated points...."
   ]
  },
  {
   "cell_type": "code",
   "execution_count": 40,
   "metadata": {},
   "outputs": [
    {
     "data": {
      "image/svg+xml": [
       "<svg xmlns=\"http://www.w3.org/2000/svg\" xmlns:xlink=\"http://www.w3.org/1999/xlink\" width=\"100.0\" height=\"100.0\" viewBox=\"-9.68 -45.68 18.36 99.36\" preserveAspectRatio=\"xMinYMin meet\"><g transform=\"matrix(1,0,0,-1,0,8.0)\"><path fill-rule=\"evenodd\" fill=\"#66cc99\" stroke=\"#555555\" stroke-width=\"1.9872\" opacity=\"0.6\" d=\"M 1.2,50.0 L 5.0,-42.0 L -6.0,3.5 L 1.2,50.0 z\" /></g></svg>"
      ],
      "text/plain": [
       "<shapely.geometry.polygon.Polygon at 0x10efc3f28>"
      ]
     },
     "execution_count": 40,
     "metadata": {},
     "output_type": "execute_result"
    }
   ],
   "source": [
    "# Create polygon from coordinates\n",
    "\n",
    "poly1 = Polygon([(1.2, 50), (5, -42.0), (-6, 3.5)])\n",
    "poly1"
   ]
  },
  {
   "cell_type": "code",
   "execution_count": 44,
   "metadata": {},
   "outputs": [
    {
     "data": {
      "image/svg+xml": [
       "<svg xmlns=\"http://www.w3.org/2000/svg\" xmlns:xlink=\"http://www.w3.org/1999/xlink\" width=\"100.0\" height=\"100.0\" viewBox=\"-9.68 -45.68 18.36 99.36\" preserveAspectRatio=\"xMinYMin meet\"><g transform=\"matrix(1,0,0,-1,0,8.0)\"><path fill-rule=\"evenodd\" fill=\"#66cc99\" stroke=\"#555555\" stroke-width=\"1.9872\" opacity=\"0.6\" d=\"M 1.2,50.0 L 5.0,-42.0 L -6.0,3.5 L 1.2,50.0 z\" /></g></svg>"
      ],
      "text/plain": [
       "<shapely.geometry.polygon.Polygon at 0x10efc3dd8>"
      ]
     },
     "execution_count": 44,
     "metadata": {},
     "output_type": "execute_result"
    }
   ],
   "source": [
    "# Using something similar to a list comprehension, we can also generate the polygon using the coordinates of points\n",
    "\n",
    "poly2 = Polygon([[point.x, point.y] for point in [point1, point2, point3]])\n",
    "poly2"
   ]
  },
  {
   "cell_type": "code",
   "execution_count": null,
   "metadata": {
    "collapsed": true
   },
   "outputs": [],
   "source": []
  }
 ],
 "metadata": {
  "kernelspec": {
   "display_name": "Python [conda env:geoenv]",
   "language": "python",
   "name": "conda-env-geoenv-py"
  },
  "language_info": {
   "codemirror_mode": {
    "name": "ipython",
    "version": 3
   },
   "file_extension": ".py",
   "mimetype": "text/x-python",
   "name": "python",
   "nbconvert_exporter": "python",
   "pygments_lexer": "ipython3",
   "version": "3.5.4"
  }
 },
 "nbformat": 4,
 "nbformat_minor": 2
}
